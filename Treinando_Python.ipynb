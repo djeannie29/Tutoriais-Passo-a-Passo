{
  "nbformat": 4,
  "nbformat_minor": 0,
  "metadata": {
    "colab": {
      "provenance": [],
      "authorship_tag": "ABX9TyNiNDK2f4z4wqpxY3ENispe",
      "include_colab_link": true
    },
    "kernelspec": {
      "name": "python3",
      "display_name": "Python 3"
    },
    "language_info": {
      "name": "python"
    },
    "widgets": {
      "application/vnd.jupyter.widget-state+json": {
        "e34ebb3d35874bd29fb1ebdf3ea1238b": {
          "model_module": "@jupyter-widgets/controls",
          "model_name": "TextModel",
          "model_module_version": "1.5.0",
          "state": {
            "_dom_classes": [],
            "_model_module": "@jupyter-widgets/controls",
            "_model_module_version": "1.5.0",
            "_model_name": "TextModel",
            "_view_count": null,
            "_view_module": "@jupyter-widgets/controls",
            "_view_module_version": "1.5.0",
            "_view_name": "TextView",
            "continuous_update": true,
            "description": "Palavra:",
            "description_tooltip": null,
            "disabled": false,
            "layout": "IPY_MODEL_cad4834545014c968e98d2eb552a7b15",
            "placeholder": "Digite uma palavra",
            "style": "IPY_MODEL_a5c1b148d0b344e9bddbc9f87f52d7cf",
            "value": "mussum"
          }
        },
        "cad4834545014c968e98d2eb552a7b15": {
          "model_module": "@jupyter-widgets/base",
          "model_name": "LayoutModel",
          "model_module_version": "1.2.0",
          "state": {
            "_model_module": "@jupyter-widgets/base",
            "_model_module_version": "1.2.0",
            "_model_name": "LayoutModel",
            "_view_count": null,
            "_view_module": "@jupyter-widgets/base",
            "_view_module_version": "1.2.0",
            "_view_name": "LayoutView",
            "align_content": null,
            "align_items": null,
            "align_self": null,
            "border": null,
            "bottom": null,
            "display": null,
            "flex": null,
            "flex_flow": null,
            "grid_area": null,
            "grid_auto_columns": null,
            "grid_auto_flow": null,
            "grid_auto_rows": null,
            "grid_column": null,
            "grid_gap": null,
            "grid_row": null,
            "grid_template_areas": null,
            "grid_template_columns": null,
            "grid_template_rows": null,
            "height": null,
            "justify_content": null,
            "justify_items": null,
            "left": null,
            "margin": null,
            "max_height": null,
            "max_width": null,
            "min_height": null,
            "min_width": null,
            "object_fit": null,
            "object_position": null,
            "order": null,
            "overflow": null,
            "overflow_x": null,
            "overflow_y": null,
            "padding": null,
            "right": null,
            "top": null,
            "visibility": null,
            "width": null
          }
        },
        "a5c1b148d0b344e9bddbc9f87f52d7cf": {
          "model_module": "@jupyter-widgets/controls",
          "model_name": "DescriptionStyleModel",
          "model_module_version": "1.5.0",
          "state": {
            "_model_module": "@jupyter-widgets/controls",
            "_model_module_version": "1.5.0",
            "_model_name": "DescriptionStyleModel",
            "_view_count": null,
            "_view_module": "@jupyter-widgets/base",
            "_view_module_version": "1.2.0",
            "_view_name": "StyleView",
            "description_width": ""
          }
        },
        "c672f5740ea4439989491cb0f8a657c2": {
          "model_module": "@jupyter-widgets/controls",
          "model_name": "ButtonModel",
          "model_module_version": "1.5.0",
          "state": {
            "_dom_classes": [],
            "_model_module": "@jupyter-widgets/controls",
            "_model_module_version": "1.5.0",
            "_model_name": "ButtonModel",
            "_view_count": null,
            "_view_module": "@jupyter-widgets/controls",
            "_view_module_version": "1.5.0",
            "_view_name": "ButtonView",
            "button_style": "",
            "description": "Verificar",
            "disabled": false,
            "icon": "",
            "layout": "IPY_MODEL_db389be1fe83481f90cab46020c10988",
            "style": "IPY_MODEL_b1870020a4e44e1c95a9a47a872e49ca",
            "tooltip": ""
          }
        },
        "db389be1fe83481f90cab46020c10988": {
          "model_module": "@jupyter-widgets/base",
          "model_name": "LayoutModel",
          "model_module_version": "1.2.0",
          "state": {
            "_model_module": "@jupyter-widgets/base",
            "_model_module_version": "1.2.0",
            "_model_name": "LayoutModel",
            "_view_count": null,
            "_view_module": "@jupyter-widgets/base",
            "_view_module_version": "1.2.0",
            "_view_name": "LayoutView",
            "align_content": null,
            "align_items": null,
            "align_self": null,
            "border": null,
            "bottom": null,
            "display": null,
            "flex": null,
            "flex_flow": null,
            "grid_area": null,
            "grid_auto_columns": null,
            "grid_auto_flow": null,
            "grid_auto_rows": null,
            "grid_column": null,
            "grid_gap": null,
            "grid_row": null,
            "grid_template_areas": null,
            "grid_template_columns": null,
            "grid_template_rows": null,
            "height": null,
            "justify_content": null,
            "justify_items": null,
            "left": null,
            "margin": null,
            "max_height": null,
            "max_width": null,
            "min_height": null,
            "min_width": null,
            "object_fit": null,
            "object_position": null,
            "order": null,
            "overflow": null,
            "overflow_x": null,
            "overflow_y": null,
            "padding": null,
            "right": null,
            "top": null,
            "visibility": null,
            "width": null
          }
        },
        "b1870020a4e44e1c95a9a47a872e49ca": {
          "model_module": "@jupyter-widgets/controls",
          "model_name": "ButtonStyleModel",
          "model_module_version": "1.5.0",
          "state": {
            "_model_module": "@jupyter-widgets/controls",
            "_model_module_version": "1.5.0",
            "_model_name": "ButtonStyleModel",
            "_view_count": null,
            "_view_module": "@jupyter-widgets/base",
            "_view_module_version": "1.2.0",
            "_view_name": "StyleView",
            "button_color": null,
            "font_weight": ""
          }
        },
        "5da357c2f962439fade840114517dff1": {
          "model_module": "@jupyter-widgets/controls",
          "model_name": "LabelModel",
          "model_module_version": "1.5.0",
          "state": {
            "_dom_classes": [],
            "_model_module": "@jupyter-widgets/controls",
            "_model_module_version": "1.5.0",
            "_model_name": "LabelModel",
            "_view_count": null,
            "_view_module": "@jupyter-widgets/controls",
            "_view_module_version": "1.5.0",
            "_view_name": "LabelView",
            "description": "",
            "description_tooltip": null,
            "layout": "IPY_MODEL_1efca829d9bf4b29a10932aabd52101a",
            "placeholder": "​",
            "style": "IPY_MODEL_b52d3c9093a340969e1effdbfcf2f2a0",
            "value": "\"mussum\" é um palíndromo!"
          }
        },
        "1efca829d9bf4b29a10932aabd52101a": {
          "model_module": "@jupyter-widgets/base",
          "model_name": "LayoutModel",
          "model_module_version": "1.2.0",
          "state": {
            "_model_module": "@jupyter-widgets/base",
            "_model_module_version": "1.2.0",
            "_model_name": "LayoutModel",
            "_view_count": null,
            "_view_module": "@jupyter-widgets/base",
            "_view_module_version": "1.2.0",
            "_view_name": "LayoutView",
            "align_content": null,
            "align_items": null,
            "align_self": null,
            "border": null,
            "bottom": null,
            "display": null,
            "flex": null,
            "flex_flow": null,
            "grid_area": null,
            "grid_auto_columns": null,
            "grid_auto_flow": null,
            "grid_auto_rows": null,
            "grid_column": null,
            "grid_gap": null,
            "grid_row": null,
            "grid_template_areas": null,
            "grid_template_columns": null,
            "grid_template_rows": null,
            "height": null,
            "justify_content": null,
            "justify_items": null,
            "left": null,
            "margin": null,
            "max_height": null,
            "max_width": null,
            "min_height": null,
            "min_width": null,
            "object_fit": null,
            "object_position": null,
            "order": null,
            "overflow": null,
            "overflow_x": null,
            "overflow_y": null,
            "padding": null,
            "right": null,
            "top": null,
            "visibility": null,
            "width": null
          }
        },
        "b52d3c9093a340969e1effdbfcf2f2a0": {
          "model_module": "@jupyter-widgets/controls",
          "model_name": "DescriptionStyleModel",
          "model_module_version": "1.5.0",
          "state": {
            "_model_module": "@jupyter-widgets/controls",
            "_model_module_version": "1.5.0",
            "_model_name": "DescriptionStyleModel",
            "_view_count": null,
            "_view_module": "@jupyter-widgets/base",
            "_view_module_version": "1.2.0",
            "_view_name": "StyleView",
            "description_width": ""
          }
        }
      }
    }
  },
  "cells": [
    {
      "cell_type": "markdown",
      "metadata": {
        "id": "view-in-github",
        "colab_type": "text"
      },
      "source": [
        "<a href=\"https://colab.research.google.com/github/djeannie29/Tutoriais-Passo-a-Passo/blob/main/Treinando_Python.ipynb\" target=\"_parent\"><img src=\"https://colab.research.google.com/assets/colab-badge.svg\" alt=\"Open In Colab\"/></a>"
      ]
    },
    {
      "cell_type": "markdown",
      "source": [
        "# 1. Verificador de Palíndromos em Textos\n",
        "•\tDescrição: Crie uma aplicação que verifica se textos ou frases inseridos"
      ],
      "metadata": {
        "id": "UYhuwgRoE4mA"
      }
    },
    {
      "cell_type": "code",
      "source": [
        "def is_palindrome(palavra:str) -> bool:\n",
        "  palavra = ''.join(c.lower() for c in palavra if c.isalnum())\n",
        "  return palavra == palavra[::-1]\n",
        "\n",
        "  #Função para solicitar a palavra\n",
        "def verifica():\n",
        "  palavras = input(\"Digite a palavra a ser verificada.\")\n",
        "  if is_palindrome(palavras):\n",
        "    print(f'\"{palavras}\" é um palindromo!')\n",
        "  else:\n",
        "    print(f'\"{palavras}\" não é um palindromo!')\n",
        "\n",
        "if __name__ == \"__main__\":\n",
        "    verifica()"
      ],
      "metadata": {
        "colab": {
          "base_uri": "https://localhost:8080/"
        },
        "id": "JnJp0yWrGlzI",
        "outputId": "07a96af2-665b-4f9a-c4cb-b3a3534eacb2"
      },
      "execution_count": 21,
      "outputs": [
        {
          "output_type": "stream",
          "name": "stdout",
          "text": [
            "Digite a palavra a ser verificada. banana\n",
            "\"banana\" não é um palindromo!\n"
          ]
        }
      ]
    },
    {
      "cell_type": "code",
      "execution_count": 4,
      "metadata": {
        "colab": {
          "base_uri": "https://localhost:8080/",
          "height": 113,
          "referenced_widgets": [
            "e34ebb3d35874bd29fb1ebdf3ea1238b",
            "cad4834545014c968e98d2eb552a7b15",
            "a5c1b148d0b344e9bddbc9f87f52d7cf",
            "c672f5740ea4439989491cb0f8a657c2",
            "db389be1fe83481f90cab46020c10988",
            "b1870020a4e44e1c95a9a47a872e49ca",
            "5da357c2f962439fade840114517dff1",
            "1efca829d9bf4b29a10932aabd52101a",
            "b52d3c9093a340969e1effdbfcf2f2a0"
          ]
        },
        "id": "MKzvv7B8EsMz",
        "outputId": "63e4e958-2fd9-4520-ec49-fb135dbfa590"
      },
      "outputs": [
        {
          "output_type": "display_data",
          "data": {
            "text/plain": [
              "Text(value='', description='Palavra:', placeholder='Digite uma palavra')"
            ],
            "application/vnd.jupyter.widget-view+json": {
              "version_major": 2,
              "version_minor": 0,
              "model_id": "e34ebb3d35874bd29fb1ebdf3ea1238b"
            }
          },
          "metadata": {}
        },
        {
          "output_type": "display_data",
          "data": {
            "text/plain": [
              "Button(description='Verificar', style=ButtonStyle())"
            ],
            "application/vnd.jupyter.widget-view+json": {
              "version_major": 2,
              "version_minor": 0,
              "model_id": "c672f5740ea4439989491cb0f8a657c2"
            }
          },
          "metadata": {}
        },
        {
          "output_type": "display_data",
          "data": {
            "text/plain": [
              "Label(value='')"
            ],
            "application/vnd.jupyter.widget-view+json": {
              "version_major": 2,
              "version_minor": 0,
              "model_id": "5da357c2f962439fade840114517dff1"
            }
          },
          "metadata": {}
        }
      ],
      "source": [
        "import ipywidgets as widgets\n",
        "from IPython.display import display\n",
        "\n",
        "# Função para verificar se uma string é um palíndromo\n",
        "def is_palindrome(s: str) -> bool:\n",
        "    s = ''.join(c.lower() for c in s if c.isalnum())\n",
        "    return s == s[::-1]\n",
        "\n",
        "# Função chamada quando o botão é clicado\n",
        "def check_palindrome(button):\n",
        "    word = text_box.value\n",
        "    if is_palindrome(word):\n",
        "        result_label.value = f'\"{word}\" é um palíndromo!'\n",
        "    else:\n",
        "        result_label.value = f'\"{word}\" não é um palíndromo.'\n",
        "\n",
        "# Widgets\n",
        "text_box = widgets.Text(\n",
        "    description='Palavra:',\n",
        "    placeholder='Digite uma palavra'\n",
        ")\n",
        "check_button = widgets.Button(\n",
        "    description='Verificar'\n",
        ")\n",
        "result_label = widgets.Label()\n",
        "\n",
        "# Associar o botão à função\n",
        "check_button.on_click(check_palindrome)\n",
        "\n",
        "# Exibir os widgets\n",
        "display(text_box, check_button, result_label)\n"
      ]
    },
    {
      "cell_type": "markdown",
      "source": [
        "# 2. Analisador de Máximos em Sequências Numéricas\n",
        "•\tDesenvolva uma ferramenta para encontrar a sequência de números com a maior soma em uma lista de números. Ideal para análise de dados financeiros ou de desempenho."
      ],
      "metadata": {
        "id": "F7xCnCTRKYJ4"
      }
    },
    {
      "cell_type": "code",
      "source": [
        "# Gerando números aleatórios\n",
        "import random\n",
        "\n",
        "def gera_numeros(tamanho: int, comeca: int, termina: int) -> list[int]:\n",
        "    return [random.randint(comeca, termina) for _ in range(tamanho)]\n",
        "\n",
        "def max_subarray_sum(nums: list[int]) -> int:\n",
        "    #Encontra a maior soma de subarray usando o algoritmo de Kadane.\n",
        "    if not nums:\n",
        "        raise ValueError(\"A lista não pode estar vazia.\")\n",
        "\n",
        "    max_sum = current_sum = nums[0]\n",
        "    for num in nums[1:]:\n",
        "        current_sum = max(num, current_sum + num)\n",
        "        max_sum = max(max_sum, current_sum)\n",
        "    return max_sum\n",
        "\n",
        "# Definindo parâmetros\n",
        "tamanho = 20\n",
        "comeca = -10000\n",
        "termina = 40000\n",
        "\n",
        "# Gerando a lista de números e imprimindo\n",
        "numeros = gera_numeros(tamanho, comeca, termina)\n",
        "print(numeros)\n",
        "\n",
        "\n",
        "# Encontrando a maior soma de subarray\n",
        "max_soma = max_subarray_sum(numeros)\n",
        "print(f\"A maior soma de subarray é: {max_soma}\")"
      ],
      "metadata": {
        "colab": {
          "base_uri": "https://localhost:8080/"
        },
        "id": "VgzwdUbJKqI2",
        "outputId": "b1d9f228-ab9b-4552-ae45-8b2f20273517"
      },
      "execution_count": 38,
      "outputs": [
        {
          "output_type": "stream",
          "name": "stdout",
          "text": [
            "[37526, 3149, -7205, 19807, 21289, 21337, -1815, -8644, 34085, 24568, 33194, 20533, -3480, 38412, 16022, 16970, 7905, -9605, 29112, 17459]\n",
            "A maior soma de subarray é: 310619\n"
          ]
        }
      ]
    },
    {
      "cell_type": "markdown",
      "source": [
        "# 3. Organizador de Dados por Valor\n",
        "•\tDescrição: Crie um script para ordenar e exibir dicionários com base em seus valores.\n",
        "•\tFunção Utilizada: sort_dict_by_value"
      ],
      "metadata": {
        "id": "vmfzu5tqUAOM"
      }
    },
    {
      "cell_type": "code",
      "source": [
        "# Gerando números aleatórios\n",
        "import random\n",
        "import operator\n",
        "\n",
        "def gera_numeros(tamanho: int, comeca: int, termina: int) -> dict[int, int]:\n",
        "    return {i: random.randint(comeca, termina) for i in range(tamanho)}\n",
        "\n",
        "def sort_dict_by_value(d: dict[int, int]) -> dict[int, int]:\n",
        "   return dict(sorted(d.items(), key=operator.itemgetter(1)))\n",
        "\n",
        "def sort_dict_by_value(d: dict[int, int], reverse: bool = False) -> dict[int, int]:\n",
        "    return dict(sorted(d.items(), key=operator.itemgetter(1), reverse=reverse))\n",
        "\n",
        "# Definindo parâmetros\n",
        "tamanho = 20\n",
        "comeca = -10000\n",
        "termina = 40000\n",
        "\n",
        "# Gerando o dicionário de números e imprimindo\n",
        "numeros = gera_numeros(tamanho, comeca, termina)\n",
        "print(\"Números gerados:\", numeros)\n",
        "\n",
        "\n",
        "# Ordenando o dicionário pelos valores\n",
        "numeros_ordenados = sort_dict_by_value(numeros)\n",
        "print(\"Números ordenados:\", numeros_ordenados)\n",
        "\n",
        "# Ordenando o dicionário pelos valores em ordem decrescente\n",
        "numeros_ordenados_decrescente = sort_dict_by_value(numeros, reverse=True)\n",
        "print(\"Números ordenados em ordem decrescente:\", numeros_ordenados_decrescente)\n",
        "\n",
        "\n",
        "\n"
      ],
      "metadata": {
        "colab": {
          "base_uri": "https://localhost:8080/"
        },
        "id": "OomLE91AMnpV",
        "outputId": "e7ae2378-f3b8-4ec7-d871-0e72a489156f"
      },
      "execution_count": 46,
      "outputs": [
        {
          "output_type": "stream",
          "name": "stdout",
          "text": [
            "Números gerados: {0: 28333, 1: 12244, 2: -5588, 3: 1861, 4: 8228, 5: 37078, 6: 26378, 7: 24032, 8: -8311, 9: 31547, 10: 27335, 11: 16575, 12: 19002, 13: 7312, 14: 14301, 15: 39696, 16: 8535, 17: -6536, 18: 19865, 19: 19082}\n",
            "Números ordenados: {8: -8311, 17: -6536, 2: -5588, 3: 1861, 13: 7312, 4: 8228, 16: 8535, 1: 12244, 14: 14301, 11: 16575, 12: 19002, 19: 19082, 18: 19865, 7: 24032, 6: 26378, 10: 27335, 0: 28333, 9: 31547, 5: 37078, 15: 39696}\n",
            "Números ordenados em ordem decrescente: {15: 39696, 5: 37078, 9: 31547, 0: 28333, 10: 27335, 6: 26378, 7: 24032, 18: 19865, 19: 19082, 12: 19002, 11: 16575, 14: 14301, 1: 12244, 16: 8535, 4: 8228, 13: 7312, 3: 1861, 2: -5588, 17: -6536, 8: -8311}\n"
          ]
        }
      ]
    },
    {
      "cell_type": "markdown",
      "source": [
        "\n",
        "#4. Análise de Top-K\n",
        "•\tDescrição: Desenvolva um código que encontra e exibe o k-ésimo maior elemento em uma lista de números. Pode ser usado para análises estatísticas ou de performance.\n",
        "•\tFunção Utilizada: kth_largest\n",
        "\n",
        "\n"
      ],
      "metadata": {
        "id": "kscQEmilE1WY"
      }
    },
    {
      "cell_type": "code",
      "source": [
        "# Gerando números aleatórios\n",
        "import random\n",
        "import heapq\n",
        "\n",
        "def gera_numeros(tamanho: int, comeca: int, termina: int) -> list[int]:\n",
        "    return [random.randint(comeca, termina) for _ in range(tamanho)]\n",
        "\n",
        "\n",
        "def kth_largest(nums: list[int], k: int) -> int:\n",
        "    return heapq.nlargest(k, nums)[-1]\n",
        "\n",
        "\n",
        "# Definindo parâmetros\n",
        "tamanho = 20\n",
        "comeca = -10000\n",
        "termina = 40000\n",
        "\n",
        "# Gerando a lista de números e imprimindo\n",
        "numeros = gera_numeros(tamanho, comeca, termina)\n",
        "print(numeros)\n",
        "\n",
        "# Definindo o valor de k\n",
        "k = 10  # Por exemplo, para encontrar o 5º maior elemento\n",
        "\n",
        "\n",
        "# Encontrando o k-ésimo maior elemento\n",
        "kth_largest_element = kth_largest(numeros, k)\n",
        "print(f\"O {k}-ésimo maior elemento é: {kth_largest_element}\")\n"
      ],
      "metadata": {
        "colab": {
          "base_uri": "https://localhost:8080/"
        },
        "id": "Z6ZyeWOxW7M7",
        "outputId": "c80000e5-0bb0-4816-a1e0-c81af19b7f5d"
      },
      "execution_count": 50,
      "outputs": [
        {
          "output_type": "stream",
          "name": "stdout",
          "text": [
            "[38342, 29681, 32562, 36047, -5832, 18381, 17285, 3357, 16761, 39219, -3226, -4856, -8334, 35281, -1500, 12953, 5568, -4753, -1854, 3535]\n",
            "O 10-ésimo maior elemento é: 12953\n"
          ]
        }
      ]
    },
    {
      "cell_type": "markdown",
      "source": [
        "\n",
        "#5. Implementação de Pesquisa Binária em Banco de Dados\n",
        "•\tDescrição: Crie um sistema de busca eficiente para grandes conjuntos de dados usando pesquisa binária. Ideal para pesquisas rápidas em listas ordenadas.\n",
        "•\tFunção Utilizada: binary_search\n"
      ],
      "metadata": {
        "id": "JLnMD0ipWj2f"
      }
    },
    {
      "cell_type": "code",
      "source": [
        "import random\n",
        "\n",
        "def gera_numeros(tamanho: int, comeca: int, termina: int, fixo: int) -> list[int]:\n",
        "    # Gera a lista de números aleatórios\n",
        "    numeros = [random.randint(comeca, termina) for _ in range(tamanho - 1)]\n",
        "    # Adiciona o valor fixo à lista\n",
        "    numeros.append(fixo)\n",
        "    return numeros\n",
        "\n",
        "def binary_search(arr: list[int], target: int) -> int:\n",
        "    left, right = 0, len(arr) - 1\n",
        "    while left <= right:\n",
        "        mid = (left + right) // 2\n",
        "        if arr[mid] == target:\n",
        "            return mid\n",
        "        elif arr[mid] < target:\n",
        "            left = mid + 1\n",
        "        else:\n",
        "            right = mid - 1\n",
        "    return -1\n",
        "\n",
        "# Definindo parâmetros\n",
        "tamanho = 20\n",
        "comeca = -10000\n",
        "termina = 40000\n",
        "fixo = 24812\n",
        "\n",
        "# Valor alvo a ser encontrado\n",
        "target = 24812\n",
        "\n",
        "# Gerando a lista de números\n",
        "numeros = gera_numeros(tamanho, comeca, termina, fixo)\n",
        "print(\"Lista de números gerados:\", numeros)\n",
        "\n",
        "# Ordenando a lista para que a pesquisa binária funcione\n",
        "numeros.sort()\n",
        "print(\"Lista de números ordenados:\", numeros)\n",
        "\n",
        "# Realizando a pesquisa binária\n",
        "index = binary_search(numeros, target)\n",
        "\n",
        "if index != -1:\n",
        "    print(f\"O valor {target} foi encontrado no índice {index}.\")\n",
        "else:\n",
        "    print(f\"O valor {target} não foi encontrado na lista.\")\n"
      ],
      "metadata": {
        "colab": {
          "base_uri": "https://localhost:8080/"
        },
        "id": "Z7aeYWfkYo-B",
        "outputId": "946cafd4-9103-4734-f485-265f21e2320f"
      },
      "execution_count": 61,
      "outputs": [
        {
          "output_type": "stream",
          "name": "stdout",
          "text": [
            "Lista de números gerados: [8339, -149, 2510, 8210, -9121, -874, 19818, 13352, 16350, 1501, 38886, 26460, 12062, 1892, 8949, 2575, -5564, 6814, 20305, 24812]\n",
            "Lista de números ordenados: [-9121, -5564, -874, -149, 1501, 1892, 2510, 2575, 6814, 8210, 8339, 8949, 12062, 13352, 16350, 19818, 20305, 24812, 26460, 38886]\n",
            "O valor 24812 foi encontrado no índice 17.\n"
          ]
        }
      ]
    },
    {
      "cell_type": "code",
      "source": [],
      "metadata": {
        "id": "AyaXOWA055WS"
      },
      "execution_count": null,
      "outputs": []
    },
    {
      "cell_type": "markdown",
      "source": [
        "#6. Calculadora de Fatorial\n",
        "Calculadora de fatorial que pode ser usada para resolver problemas matemáticos ou algoritmos que necessitam de cálculos de fatoriais.\n",
        "•\tFunção Utilizada: factorial\n",
        "\n"
      ],
      "metadata": {
        "id": "PNL0gVEPXETU"
      }
    },
    {
      "cell_type": "code",
      "source": [
        "def fatorial(n: int) -> int:\n",
        "    if n < 0:\n",
        "        raise ValueError(\"O número deve ser não negativo.\")\n",
        "    elif n == 0 or n == 1:\n",
        "        return 1\n",
        "    else:\n",
        "        resultado = 1\n",
        "        for i in range(2, n + 1):\n",
        "            resultado *= i\n",
        "        return resultado\n",
        "\n",
        "# Solicita ao usuário um número\n",
        "numero = int(input(\"Digite um número para calcular o fatorial: \"))\n",
        "\n",
        "# Calcula o fatorial e imprime o resultado\n",
        "try:\n",
        "    resultado = fatorial(numero)\n",
        "    print(f\"O fatorial de {numero} é {resultado}.\")\n",
        "except ValueError as e:\n",
        "    print(e)\n"
      ],
      "metadata": {
        "colab": {
          "base_uri": "https://localhost:8080/"
        },
        "id": "JuWO3umhYp82",
        "outputId": "0274c222-6dae-42ae-9b1a-04c051d9ee6b"
      },
      "execution_count": 1,
      "outputs": [
        {
          "output_type": "stream",
          "name": "stdout",
          "text": [
            "Digite um número para calcular o fatorial: 40\n",
            "O fatorial de 40 é 815915283247897734345611269596115894272000000000.\n"
          ]
        }
      ]
    },
    {
      "cell_type": "markdown",
      "source": [
        "#7. Simulador das Torres de Hanói\n",
        "Crie uma visualização ou um simulador do problema das Torres de Hanói. O projeto pode incluir uma interface gráfica para representar os movimentos dos discos.\n",
        "•\tFunção Utilizada: hanoi\n",
        "\n"
      ],
      "metadata": {
        "id": "W3pFAYikXEb7"
      }
    },
    {
      "cell_type": "code",
      "source": [
        "def solve_hanoi(n, from_tower, to_tower, aux_tower):\n",
        "    if n == 1:\n",
        "        print(f\"Mova o disco {n} da torre {from_tower} para a torre {to_tower}\")\n",
        "    else:\n",
        "        solve_hanoi(n - 1, from_tower, aux_tower, to_tower)\n",
        "        print(f\"Mova o disco {n} da torre {from_tower} para a torre {to_tower}\")\n",
        "        solve_hanoi(n - 1, aux_tower, to_tower, from_tower)\n",
        "\n",
        "# Número de discos\n",
        "discos = 4\n",
        "solve_hanoi(discos, 'A', 'C', 'B')\n"
      ],
      "metadata": {
        "colab": {
          "base_uri": "https://localhost:8080/"
        },
        "id": "rC9-SGUH7eKh",
        "outputId": "09a1c742-2d89-4537-e795-10c7d40f2bda"
      },
      "execution_count": 3,
      "outputs": [
        {
          "output_type": "stream",
          "name": "stdout",
          "text": [
            "Mova o disco 1 da torre A para a torre B\n",
            "Mova o disco 2 da torre A para a torre C\n",
            "Mova o disco 1 da torre B para a torre C\n",
            "Mova o disco 3 da torre A para a torre B\n",
            "Mova o disco 1 da torre C para a torre A\n",
            "Mova o disco 2 da torre C para a torre B\n",
            "Mova o disco 1 da torre A para a torre B\n",
            "Mova o disco 4 da torre A para a torre C\n",
            "Mova o disco 1 da torre B para a torre C\n",
            "Mova o disco 2 da torre B para a torre A\n",
            "Mova o disco 1 da torre C para a torre A\n",
            "Mova o disco 3 da torre B para a torre C\n",
            "Mova o disco 1 da torre A para a torre B\n",
            "Mova o disco 2 da torre A para a torre C\n",
            "Mova o disco 1 da torre B para a torre C\n"
          ]
        }
      ]
    },
    {
      "cell_type": "code",
      "source": [
        "#Não roda no ambiente co Colab. Pycharm ok.\n",
        "import tkinter as tk\n",
        "\n",
        "class TorreHanoi:\n",
        "    def __init__(self, discos):\n",
        "        self.window = tk.Tk()\n",
        "        self.window.title(\"Simulador das Torres de Hanói\")\n",
        "\n",
        "        self.discos = discos\n",
        "        self.torres = [[], [], []]\n",
        "        self.frames = []\n",
        "\n",
        "        # Criação dos pinos\n",
        "        for i in range(3):\n",
        "            frame = tk.Frame(self.window, width=150, height=200)\n",
        "            frame.grid(row=0, column=i, padx=10)\n",
        "            self.frames.append(frame)\n",
        "\n",
        "        # Adicionando os discos à primeira torre\n",
        "        for i in range(discos, 0, -1):\n",
        "            self.torres[0].append(i)\n",
        "            self.draw_disc(i, 0)\n",
        "\n",
        "        # Iniciar a solução\n",
        "        self.window.after(1000, self.solve, discos, 0, 2, 1)\n",
        "\n",
        "        self.window.mainloop()\n",
        "\n",
        "    def draw_disc(self, disc, torre):\n",
        "        width = disc * 10\n",
        "        label = tk.Label(self.frames[torre], text=str(disc), bg=\"blue\", width=width)\n",
        "        label.pack(side=tk.BOTTOM, pady=2)\n",
        "\n",
        "    def move_disc(self, from_tower, to_tower):\n",
        "        disc = self.torres[from_tower].pop()\n",
        "        self.torres[to_tower].append(disc)\n",
        "        self.update_towers()\n",
        "\n",
        "    def update_towers(self):\n",
        "        for i in range(3):\n",
        "            for widget in self.frames[i].winfo_children():\n",
        "                widget.destroy()\n",
        "            for disc in self.torres[i]:\n",
        "                self.draw_disc(disc, i)\n",
        "\n",
        "    def solve(self, n, from_tower, to_tower, aux_tower):\n",
        "        if n == 1:\n",
        "            self.window.after(500, self.move_disc, from_tower, to_tower)\n",
        "        else:\n",
        "            self.solve(n - 1, from_tower, aux_tower, to_tower)\n",
        "            self.window.after(500, self.solve, 1, from_tower, to_tower, aux_tower)\n",
        "            self.solve(n - 1, aux_tower, to_tower, from_tower)\n",
        "\n",
        "# Cria o simulador com 4 discos\n",
        "TorreHanoi(4)"
      ],
      "metadata": {
        "colab": {
          "base_uri": "https://localhost:8080/",
          "height": 321
        },
        "id": "ON-6weF8Yqc3",
        "outputId": "90bbc3c9-6a5e-4fdc-8e28-a64f7ef15bf8"
      },
      "execution_count": 4,
      "outputs": [
        {
          "output_type": "error",
          "ename": "TclError",
          "evalue": "no display name and no $DISPLAY environment variable",
          "traceback": [
            "\u001b[0;31m---------------------------------------------------------------------------\u001b[0m",
            "\u001b[0;31mTclError\u001b[0m                                  Traceback (most recent call last)",
            "\u001b[0;32m<ipython-input-4-9247ac7ad491>\u001b[0m in \u001b[0;36m<cell line: 54>\u001b[0;34m()\u001b[0m\n\u001b[1;32m     52\u001b[0m \u001b[0;34m\u001b[0m\u001b[0m\n\u001b[1;32m     53\u001b[0m \u001b[0;31m# Cria o simulador com 4 discos\u001b[0m\u001b[0;34m\u001b[0m\u001b[0;34m\u001b[0m\u001b[0m\n\u001b[0;32m---> 54\u001b[0;31m \u001b[0mTorreHanoi\u001b[0m\u001b[0;34m(\u001b[0m\u001b[0;36m4\u001b[0m\u001b[0;34m)\u001b[0m\u001b[0;34m\u001b[0m\u001b[0;34m\u001b[0m\u001b[0m\n\u001b[0m",
            "\u001b[0;32m<ipython-input-4-9247ac7ad491>\u001b[0m in \u001b[0;36m__init__\u001b[0;34m(self, discos)\u001b[0m\n\u001b[1;32m      3\u001b[0m \u001b[0;32mclass\u001b[0m \u001b[0mTorreHanoi\u001b[0m\u001b[0;34m:\u001b[0m\u001b[0;34m\u001b[0m\u001b[0;34m\u001b[0m\u001b[0m\n\u001b[1;32m      4\u001b[0m     \u001b[0;32mdef\u001b[0m \u001b[0m__init__\u001b[0m\u001b[0;34m(\u001b[0m\u001b[0mself\u001b[0m\u001b[0;34m,\u001b[0m \u001b[0mdiscos\u001b[0m\u001b[0;34m)\u001b[0m\u001b[0;34m:\u001b[0m\u001b[0;34m\u001b[0m\u001b[0;34m\u001b[0m\u001b[0m\n\u001b[0;32m----> 5\u001b[0;31m         \u001b[0mself\u001b[0m\u001b[0;34m.\u001b[0m\u001b[0mwindow\u001b[0m \u001b[0;34m=\u001b[0m \u001b[0mtk\u001b[0m\u001b[0;34m.\u001b[0m\u001b[0mTk\u001b[0m\u001b[0;34m(\u001b[0m\u001b[0;34m)\u001b[0m\u001b[0;34m\u001b[0m\u001b[0;34m\u001b[0m\u001b[0m\n\u001b[0m\u001b[1;32m      6\u001b[0m         \u001b[0mself\u001b[0m\u001b[0;34m.\u001b[0m\u001b[0mwindow\u001b[0m\u001b[0;34m.\u001b[0m\u001b[0mtitle\u001b[0m\u001b[0;34m(\u001b[0m\u001b[0;34m\"Simulador das Torres de Hanói\"\u001b[0m\u001b[0;34m)\u001b[0m\u001b[0;34m\u001b[0m\u001b[0;34m\u001b[0m\u001b[0m\n\u001b[1;32m      7\u001b[0m \u001b[0;34m\u001b[0m\u001b[0m\n",
            "\u001b[0;32m/usr/lib/python3.10/tkinter/__init__.py\u001b[0m in \u001b[0;36m__init__\u001b[0;34m(self, screenName, baseName, className, useTk, sync, use)\u001b[0m\n\u001b[1;32m   2297\u001b[0m                 \u001b[0mbaseName\u001b[0m \u001b[0;34m=\u001b[0m \u001b[0mbaseName\u001b[0m \u001b[0;34m+\u001b[0m \u001b[0mext\u001b[0m\u001b[0;34m\u001b[0m\u001b[0;34m\u001b[0m\u001b[0m\n\u001b[1;32m   2298\u001b[0m         \u001b[0minteractive\u001b[0m \u001b[0;34m=\u001b[0m \u001b[0;32mFalse\u001b[0m\u001b[0;34m\u001b[0m\u001b[0;34m\u001b[0m\u001b[0m\n\u001b[0;32m-> 2299\u001b[0;31m         \u001b[0mself\u001b[0m\u001b[0;34m.\u001b[0m\u001b[0mtk\u001b[0m \u001b[0;34m=\u001b[0m \u001b[0m_tkinter\u001b[0m\u001b[0;34m.\u001b[0m\u001b[0mcreate\u001b[0m\u001b[0;34m(\u001b[0m\u001b[0mscreenName\u001b[0m\u001b[0;34m,\u001b[0m \u001b[0mbaseName\u001b[0m\u001b[0;34m,\u001b[0m \u001b[0mclassName\u001b[0m\u001b[0;34m,\u001b[0m \u001b[0minteractive\u001b[0m\u001b[0;34m,\u001b[0m \u001b[0mwantobjects\u001b[0m\u001b[0;34m,\u001b[0m \u001b[0museTk\u001b[0m\u001b[0;34m,\u001b[0m \u001b[0msync\u001b[0m\u001b[0;34m,\u001b[0m \u001b[0muse\u001b[0m\u001b[0;34m)\u001b[0m\u001b[0;34m\u001b[0m\u001b[0;34m\u001b[0m\u001b[0m\n\u001b[0m\u001b[1;32m   2300\u001b[0m         \u001b[0;32mif\u001b[0m \u001b[0museTk\u001b[0m\u001b[0;34m:\u001b[0m\u001b[0;34m\u001b[0m\u001b[0;34m\u001b[0m\u001b[0m\n\u001b[1;32m   2301\u001b[0m             \u001b[0mself\u001b[0m\u001b[0;34m.\u001b[0m\u001b[0m_loadtk\u001b[0m\u001b[0;34m(\u001b[0m\u001b[0;34m)\u001b[0m\u001b[0;34m\u001b[0m\u001b[0;34m\u001b[0m\u001b[0m\n",
            "\u001b[0;31mTclError\u001b[0m: no display name and no $DISPLAY environment variable"
          ]
        }
      ]
    },
    {
      "cell_type": "markdown",
      "source": [
        "#8. Detector de Números Primos\n",
        "•\tDescrição: Desenvolva uma aplicação que determina se um número é primo e fornece uma lista de números primos dentro de um intervalo específico.\n",
        "•\tFunção Utilizada: is_prime\n",
        "\n"
      ],
      "metadata": {
        "id": "WvsDA3beXEkc"
      }
    },
    {
      "cell_type": "code",
      "source": [
        "def is_prime(n):\n",
        "# Lógica para verificar se n é primo\n",
        "    if n <= 1:\n",
        "        return False\n",
        "    for i in range(2, int(n**0.5)+1):\n",
        "      if n % i == 0:\n",
        "        return False\n",
        "      return True\n",
        "\n",
        "# Usar a função para verificar se um número é primo\n",
        "number = 8\n",
        "if is_prime(number):\n",
        "    print(f\"{number} é primo!\")\n",
        "else:\n",
        "    print(f\"{number} não é primo.\")\n"
      ],
      "metadata": {
        "colab": {
          "base_uri": "https://localhost:8080/"
        },
        "id": "461ZxmDIYq6k",
        "outputId": "47c4944e-6245-425e-f476-175de3fe30c0"
      },
      "execution_count": 13,
      "outputs": [
        {
          "output_type": "stream",
          "name": "stdout",
          "text": [
            "8 não é primo.\n"
          ]
        }
      ]
    }
  ]
}